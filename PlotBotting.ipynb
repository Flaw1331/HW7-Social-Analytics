{
 "cells": [
  {
   "cell_type": "markdown",
   "metadata": {},
   "source": [
    "# Twitter Bot"
   ]
  },
  {
   "cell_type": "code",
   "execution_count": 1,
   "metadata": {},
   "outputs": [],
   "source": [
    "# Dependencies\n",
    "import numpy as np\n",
    "import pandas as pd\n",
    "import matplotlib.pyplot as plt\n",
    "import json\n",
    "import tweepy\n",
    "import time\n",
    "import os\n",
    "\n",
    "# Import and setup Vader\n",
    "from vaderSentiment.vaderSentiment import SentimentIntensityAnalyzer\n",
    "analyzer = SentimentIntensityAnalyzer()\n",
    "\n",
    "# Finding API Keys\n",
    "api_dir = os.path.dirname(os.path.dirname(os.path.realpath('__file__')))\n",
    "file_name = os.path.join(api_dir, \"api_keys.json\")\n",
    "data = json.load(open(file_name))\n",
    "\n",
    "# Setting up API Key access\n",
    "consumer_key = data['twitter_consumer_key']\n",
    "consumer_secret = data['twitter_consumer_secret']\n",
    "access_token = data['twitter_access_token']\n",
    "access_token_secret = data['twitter_access_token_secret']\n",
    "\n",
    "# Setting up Tweepy API Auth\n",
    "auth = tweepy.OAuthHandler(consumer_key, consumer_secret)\n",
    "auth.set_access_token(access_token, access_token_secret)\n",
    "api = tweepy.API(auth, parser=tweepy.parsers.JSONParser())"
   ]
  },
  {
   "cell_type": "markdown",
   "metadata": {},
   "source": [
    "# Globals"
   ]
  },
  {
   "cell_type": "code",
   "execution_count": 2,
   "metadata": {
    "collapsed": true
   },
   "outputs": [],
   "source": [
    "# Defining bot handle\n",
    "bot_acc = '@FlawPlotBot'\n",
    "\n",
    "# Setting up easy variable for testing\n",
    "wait = 5*60\n",
    "\n",
    "# Setting up a variable to change tweet amount\n",
    "tweet_analyze_count = 500\n",
    "\n",
    "# Setting up repeat bool\n",
    "repeat = False\n",
    "\n",
    "# Setting up list for repeated tags\n",
    "repeat_tags = []"
   ]
  },
  {
   "cell_type": "markdown",
   "metadata": {
    "collapsed": true
   },
   "source": [
    "# Creating Functions"
   ]
  },
  {
   "cell_type": "code",
   "execution_count": 3,
   "metadata": {
    "collapsed": true
   },
   "outputs": [],
   "source": [
    "# Grabbing tweets and creating a plot\n",
    "def runPrint(target_tag):\n",
    "    \n",
    "    # Creates a DF from target tag's tweets\n",
    "    df = runVader(target_tag)\n",
    "    \n",
    "    # Creates a plot based on each item passed in from the DF\n",
    "    # Formatting --- Pre-data\n",
    "    plt.style.use('seaborn')\n",
    "    colorlist = [\"#e6194b\", \"#3cb44b\", \"#0082c8\", \"#f58231\", \"#911eb4\", \"#46f0f0\", \"#f032e6\", \"#ffe119\", \"#d2f53c\", \"#fabebe\", \"#000080\", \"#ffd8b1\", \"#808000\", \"#aaffc3\", \"#800000\", \"#fffac8\", \"#aa6e28\", \"#e6beff\", \"#008080\"]\n",
    "    plt.figure(figsize = (10, 5))\n",
    "    \n",
    "    # Setting up a plot\n",
    "    plt.scatter(df.index, df['Compound'], color = 'b', marker = 'o', s=100, edgecolors=\"black\", alpha=.75)\n",
    "    \n",
    "    # Formatting --- Post-data\n",
    "    plt.xlim(-5, 505)\n",
    "    plt.ylim(-1.01,1.01)\n",
    "    plt.legend(loc = 'best')\n",
    "    plt.xlabel('Tweets Ago', fontsize=16)\n",
    "    plt.ylabel('Tweet Polarity', fontsize=16)\n",
    "    plt.title(f'Sentiment Analysis for @{target_tag}', fontsize=22)\n",
    "    #plt.grid(alpha = .25)\n",
    "    \n",
    "    # Saves figure for later report\n",
    "    plt.savefig(f'Resources/Sentiment Tweet Analysis - @{target_tag} ({tweet_analyze_count} Tweets).png')"
   ]
  },
  {
   "cell_type": "code",
   "execution_count": 4,
   "metadata": {
    "collapsed": true
   },
   "outputs": [],
   "source": [
    "# Runs a check on if the requested tag has been seen twice\n",
    "def runRepeat(target_tag):\n",
    "    # Setting repeat bool to False to start\n",
    "    repeat = False\n",
    "    if target_tag in repeat_tags:\n",
    "        return(True)\n",
    "    else:\n",
    "        repeat_tags.append(target_tag)\n",
    "        return(False)"
   ]
  },
  {
   "cell_type": "code",
   "execution_count": 5,
   "metadata": {
    "collapsed": true
   },
   "outputs": [],
   "source": [
    "# Runs Vader Analysis on Tweets based on a tag passed in\n",
    "def runVader(target_tag):\n",
    "    \n",
    "    # Setting variables\n",
    "    compound_list = []\n",
    "    positive_list = []\n",
    "    negative_list = []\n",
    "    neutral_list = []\n",
    "    date_list = []\n",
    "    tweet_text_list = []\n",
    "    \n",
    "    # Loop through pages based on total count (20 tweets per page)\n",
    "    for x in range(int(tweet_analyze_count/20)):\n",
    "\n",
    "        # Get all tweets from home feed  --  Page=x was giving double 1st page results\n",
    "        public_tweets = api.user_timeline(target_tag, page=x+1)\n",
    "\n",
    "        # Loop through all tweets \n",
    "        for tweet in public_tweets:\n",
    "            \n",
    "            # Run Vader Analysis on each tweet and add values to the appropriate arrays\n",
    "            compound_list.append(analyzer.polarity_scores(tweet[\"text\"])[\"compound\"])\n",
    "            positive_list.append(analyzer.polarity_scores(tweet[\"text\"])[\"pos\"])\n",
    "            negative_list.append(analyzer.polarity_scores(tweet[\"text\"])[\"neg\"])\n",
    "            neutral_list.append(analyzer.polarity_scores(tweet[\"text\"])[\"neu\"])\n",
    "            date_list.append(tweet[\"created_at\"])\n",
    "            tweet_text_list.append(tweet[\"text\"])\n",
    "            \n",
    "    # Pushing results to a dict       \n",
    "    sentiment = {\n",
    "                \"Date\": date_list,\n",
    "                \"Compound\": compound_list,\n",
    "                \"Positive\": positive_list,\n",
    "                \"Neutral\": negative_list,\n",
    "                \"Negative\": neutral_list,\n",
    "                \"Text\": tweet_text_list\n",
    "    }\n",
    "    \n",
    "    # Creating a DF for results\n",
    "    result = pd.DataFrame(sentiment)\n",
    "    \n",
    "    # Optional - Prints progress of API Calls\n",
    "    #print('--------------------------------------------------------')\n",
    "    #print(f'Processing Twitter handle: {target_tag}')\n",
    "    #print('--------------------------------------------------------')\n",
    "    \n",
    "    # Returning a DF of the results\n",
    "    return(result)"
   ]
  },
  {
   "cell_type": "code",
   "execution_count": 6,
   "metadata": {
    "collapsed": true
   },
   "outputs": [],
   "source": [
    "# Setting up function to call so sleep can be put inside a wait loop on a timer\n",
    "def runTweeter(bot_acc):\n",
    "    \n",
    "    # Grabbing only most recent tweet - No queueing system\n",
    "    mentions = api.home_timeline(count=1)\n",
    "    \n",
    "    # Clearing target tag\n",
    "    target_tag = \"\"\n",
    "\n",
    "    # Creating a try \"loop\" to check if the most recent status is valid\n",
    "    try:\n",
    "        target_tag = mentions[0]['entities']['user_mentions'][1]['screen_name']\n",
    "        \n",
    "    # Reseting target_tag if it fails\n",
    "    except:\n",
    "        target_tag = \"\"\n",
    "\n",
    "    # Starting IF block to grab rest of info if needed\n",
    "    if (mentions[0]['text'] == f'{bot_acc} Analyze: @{target_tag}'):\n",
    "\n",
    "        # Grab who requested for tweet-back\n",
    "        req_user = mentions[0]['user']['screen_name']\n",
    "\n",
    "        # Optional - Confirm target_account\n",
    "        #print(\"Target Account: \" + target_tag)\n",
    "        #print(\"Requesting User: \" + req_user)\n",
    "\n",
    "    # Return both users\n",
    "    return(target_tag, req_user)     "
   ]
  },
  {
   "cell_type": "code",
   "execution_count": 7,
   "metadata": {
    "collapsed": true
   },
   "outputs": [],
   "source": [
    "# Function to update after succesful analyze\n",
    "def runSuccessUpdate(target_tag, req_user):\n",
    "    api.update_with_media(f'Resources/Sentiment Tweet Analysis - @{target_tag} ({tweet_analyze_count} Tweets).png', f'@{req_user} Result for your request of handle: @{target_tag}')\n",
    "    "
   ]
  },
  {
   "cell_type": "markdown",
   "metadata": {
    "collapsed": true
   },
   "source": [
    "# Main Execution"
   ]
  },
  {
   "cell_type": "code",
   "execution_count": null,
   "metadata": {},
   "outputs": [
    {
     "name": "stdout",
     "output_type": "stream",
     "text": [
      "['CNN']\n",
      "['CNN', 'espn']\n",
      "['CNN', 'espn', 'NFL']\n",
      "['CNN', 'espn', 'NFL', 'KingJames']\n"
     ]
    }
   ],
   "source": [
    "# Loops and waits - Check for repeat tags and only updates on new tags\n",
    "while(True):\n",
    "    \n",
    "    # Finding Users needed\n",
    "    target_tag, req_user = runTweeter(bot_acc)\n",
    "    \n",
    "    # Repeat Check\n",
    "    repeat = runRepeat(target_tag)\n",
    "    \n",
    "    # Execute if not a repeated user\n",
    "    if not (repeat):\n",
    "        runPrint(target_tag)\n",
    "        runSuccessUpdate(target_tag, req_user)\n",
    "    \n",
    "    # Optional - Prints Repeated tags stored each cycle\n",
    "    #print(repeat_tags)\n",
    "            \n",
    "    # Sleeping Function so as to not spam\n",
    "    time.sleep(wait)"
   ]
  }
 ],
 "metadata": {
  "kernelspec": {
   "display_name": "Python 3",
   "language": "python",
   "name": "python3"
  },
  "language_info": {
   "codemirror_mode": {
    "name": "ipython",
    "version": 3
   },
   "file_extension": ".py",
   "mimetype": "text/x-python",
   "name": "python",
   "nbconvert_exporter": "python",
   "pygments_lexer": "ipython3",
   "version": "3.6.3"
  }
 },
 "nbformat": 4,
 "nbformat_minor": 2
}
